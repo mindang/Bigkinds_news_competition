{
 "cells": [
  {
   "cell_type": "code",
   "execution_count": 1,
   "metadata": {},
   "outputs": [],
   "source": [
    "import requests\n",
    "from bs4 import BeautifulSoup\n",
    "from collections import Counter\n",
    "import pandas as pd\n",
    "import re\n",
    "import time\n",
    "from tqdm import tqdm"
   ]
  },
  {
   "cell_type": "code",
   "execution_count": 2,
   "metadata": {},
   "outputs": [
    {
     "data": {
      "text/html": [
       "<div>\n",
       "<style scoped>\n",
       "    .dataframe tbody tr th:only-of-type {\n",
       "        vertical-align: middle;\n",
       "    }\n",
       "\n",
       "    .dataframe tbody tr th {\n",
       "        vertical-align: top;\n",
       "    }\n",
       "\n",
       "    .dataframe thead th {\n",
       "        text-align: right;\n",
       "    }\n",
       "</style>\n",
       "<table border=\"1\" class=\"dataframe\">\n",
       "  <thead>\n",
       "    <tr style=\"text-align: right;\">\n",
       "      <th></th>\n",
       "      <th>title</th>\n",
       "      <th>content</th>\n",
       "      <th>link</th>\n",
       "    </tr>\n",
       "  </thead>\n",
       "  <tbody>\n",
       "  </tbody>\n",
       "</table>\n",
       "</div>"
      ],
      "text/plain": [
       "Empty DataFrame\n",
       "Columns: [title, content, link]\n",
       "Index: []"
      ]
     },
     "execution_count": 2,
     "metadata": {},
     "output_type": "execute_result"
    }
   ],
   "source": [
    "data = pd.DataFrame(columns=['title','content','link'])\n",
    "data"
   ]
  },
  {
   "cell_type": "code",
   "execution_count": 3,
   "metadata": {},
   "outputs": [
    {
     "name": "stderr",
     "output_type": "stream",
     "text": [
      "  0%|          | 0/180 [00:00<?, ?it/s]"
     ]
    },
    {
     "name": "stderr",
     "output_type": "stream",
     "text": [
      "100%|██████████| 180/180 [15:45<00:00,  5.25s/it]\n"
     ]
    }
   ],
   "source": [
    "for page_num in tqdm(range(1,181)):   # 시사뉴스(111) : 1 ~ 180 page / 경제(115) : 1 ~ 40 page\n",
    "    \n",
    "    # 페이지 탐색\n",
    "    page_url = f\"https://kid.chosun.com/list_kj.html?catid=111&pn={page_num}\"\n",
    "    page_response = requests.get(page_url)\n",
    "    page_html = page_response.content\n",
    "\n",
    "    # BeautifulSoup을 사용하여 HTML 파싱\n",
    "    page_soup = BeautifulSoup(page_html, 'html.parser')\n",
    "    links = [link['href'] for link in page_soup.find_all('a')]\n",
    "    links = Counter(links)\n",
    "    links = [link for link in links if '/site/data/html_dir' in link]\n",
    "    \n",
    "    for news_link in links:\n",
    "        time.sleep(0.08)\n",
    "        # 웹 페이지의 HTML을 가져오기\n",
    "        news_link = \"https://kid.chosun.com\"+news_link\n",
    "        news_response = requests.get(news_link)\n",
    "        news_content = news_response.content\n",
    "        news_soup = BeautifulSoup(news_content, 'html.parser')\n",
    "\n",
    "        # 기사 제목 추출\n",
    "        title = news_soup.find('title').text.strip()\n",
    "        title = re.sub(r'\\[.*?\\]','',title)\n",
    "        # 기사 본문 추출\n",
    "        news_content = []\n",
    "        content = news_soup.find_all('div','Paragraph')\n",
    "        for cont in content:\n",
    "            c = cont.text\n",
    "            except_cf = [dt.text for dt in cont.find_all('dt')] + [font.text for font in cont.find_all('font')] #+ [divv.text for divv in cont.find_all('div')] \n",
    "            if except_cf:\n",
    "                for except_cfc in except_cf:\n",
    "                    c = re.sub(re.escape(except_cfc), ' ', c)\n",
    "            news_content.append(c.strip())\n",
    "\n",
    "        #news_content = \" \".join(news_content)\n",
    "        if title and news_content:\n",
    "            data = pd.concat([data,pd.DataFrame({'title': [title] , 'content' : [news_content] , 'link' : [news_link]})],ignore_index=True)\n",
    "        \n"
   ]
  },
  {
   "cell_type": "code",
   "execution_count": 4,
   "metadata": {},
   "outputs": [
    {
     "data": {
      "text/html": [
       "<div>\n",
       "<style scoped>\n",
       "    .dataframe tbody tr th:only-of-type {\n",
       "        vertical-align: middle;\n",
       "    }\n",
       "\n",
       "    .dataframe tbody tr th {\n",
       "        vertical-align: top;\n",
       "    }\n",
       "\n",
       "    .dataframe thead th {\n",
       "        text-align: right;\n",
       "    }\n",
       "</style>\n",
       "<table border=\"1\" class=\"dataframe\">\n",
       "  <thead>\n",
       "    <tr style=\"text-align: right;\">\n",
       "      <th></th>\n",
       "      <th>title</th>\n",
       "      <th>content</th>\n",
       "      <th>link</th>\n",
       "    </tr>\n",
       "  </thead>\n",
       "  <tbody>\n",
       "    <tr>\n",
       "      <th>0</th>\n",
       "      <td>‘제주의 허파’ 선흘곶자왈은 멸종 위기·희귀 곤충들의 천국</td>\n",
       "      <td>[바람과 물이 풍부하고, 화산 활동으로 돌이 다양한 제주. 특히 제주 선흘곶자왈은 ...</td>\n",
       "      <td>https://kid.chosun.com/site/data/html_dir/2023...</td>\n",
       "    </tr>\n",
       "    <tr>\n",
       "      <th>1</th>\n",
       "      <td>공적인 일에 종사해야 ‘公人’… 연예인에게도 ‘공인의 책임’ 있을까?</td>\n",
       "      <td>[최근 연예계는 사건·사고가 끊이지 않습니다. 지난달 23일 배우 이선균(48)이 ...</td>\n",
       "      <td>https://kid.chosun.com/site/data/html_dir/2023...</td>\n",
       "    </tr>\n",
       "    <tr>\n",
       "      <th>2</th>\n",
       "      <td>스트레스 받거나 우울·지루하면 ‘과식’ 성인뿐 아니라 4세 유아에게도 나타나</td>\n",
       "      <td>[감정적 섭식, 음식을 통해 기분 전환하려는 행동을 '감정적 섭식(Emotional...</td>\n",
       "      <td>https://kid.chosun.com/site/data/html_dir/2023...</td>\n",
       "    </tr>\n",
       "    <tr>\n",
       "      <th>3</th>\n",
       "      <td>“돌고래에게 비좁은 수족관은 감옥” 벨루가는 바다로 돌아갈 수 있을까</td>\n",
       "      <td>[생크추어리: 해양 동물을 보호하는 바다 쉼터, \"시급히 자연으로 돌려보냅시다!\"지...</td>\n",
       "      <td>https://kid.chosun.com/site/data/html_dir/2023...</td>\n",
       "    </tr>\n",
       "    <tr>\n",
       "      <th>4</th>\n",
       "      <td>빌린 돈 미리 갚는데 수수료 내야 한다고?</td>\n",
       "      <td>[은행에서 빌린 돈을 원래 약속한 기간보다 빨리 갚으려고 할 때 돈을 더 내야 할 ...</td>\n",
       "      <td>https://kid.chosun.com/site/data/html_dir/2023...</td>\n",
       "    </tr>\n",
       "    <tr>\n",
       "      <th>...</th>\n",
       "      <td>...</td>\n",
       "      <td>...</td>\n",
       "      <td>...</td>\n",
       "    </tr>\n",
       "    <tr>\n",
       "      <th>1789</th>\n",
       "      <td>헬시 플레저</td>\n",
       "      <td>['건강(Health)'과 '즐겁다(Pleasure)'가 합쳐진 단어로, 건강을 즐...</td>\n",
       "      <td>https://kid.chosun.com/site/data/html_dir/2022...</td>\n",
       "    </tr>\n",
       "    <tr>\n",
       "      <th>1790</th>\n",
       "      <td>장애 가진 아기 기린, 보조 장치 차고 ‘폴짝’</td>\n",
       "      <td>[\"폴짝폴짝, 이제 맘껏 뛰어놀래!\"선천적으로 무릎 관절에 장애를 갖고 태어나 제대...</td>\n",
       "      <td>https://kid.chosun.com/site/data/html_dir/2022...</td>\n",
       "    </tr>\n",
       "    <tr>\n",
       "      <th>1791</th>\n",
       "      <td>과일·채소 섭취, 어린이 ADHD 개선 효과</td>\n",
       "      <td>[과일과 채소를 많이 섭취하는 것이 어린이의 ADHD(주의력 결핍 과다 행동 장애)...</td>\n",
       "      <td>https://kid.chosun.com/site/data/html_dir/2022...</td>\n",
       "    </tr>\n",
       "    <tr>\n",
       "      <th>1792</th>\n",
       "      <td>가족愛 돈독할수록 자녀 잘 자란다</td>\n",
       "      <td>[부모·자녀 간 돈독한 유대 관계가 아이의 인생을 좌우할 수 있다는 연구 결과가 나...</td>\n",
       "      <td>https://kid.chosun.com/site/data/html_dir/2022...</td>\n",
       "    </tr>\n",
       "    <tr>\n",
       "      <th>1793</th>\n",
       "      <td>지역 대표할 일꾼 ‘직접’ 선출, 한 표도 허투루 써선 안 되겠죠?</td>\n",
       "      <td>[, 주민이 자기 지역의 대표를 ‘직접’ 선출하는 선거랍니다. 선출된 ‘일꾼’은 ‘...</td>\n",
       "      <td>https://kid.chosun.com/site/data/html_dir/2022...</td>\n",
       "    </tr>\n",
       "  </tbody>\n",
       "</table>\n",
       "<p>1794 rows × 3 columns</p>\n",
       "</div>"
      ],
      "text/plain": [
       "                                            title  \\\n",
       "0                ‘제주의 허파’ 선흘곶자왈은 멸종 위기·희귀 곤충들의 천국   \n",
       "1          공적인 일에 종사해야 ‘公人’… 연예인에게도 ‘공인의 책임’ 있을까?   \n",
       "2      스트레스 받거나 우울·지루하면 ‘과식’ 성인뿐 아니라 4세 유아에게도 나타나   \n",
       "3          “돌고래에게 비좁은 수족관은 감옥” 벨루가는 바다로 돌아갈 수 있을까   \n",
       "4                         빌린 돈 미리 갚는데 수수료 내야 한다고?   \n",
       "...                                           ...   \n",
       "1789                                       헬시 플레저   \n",
       "1790                   장애 가진 아기 기린, 보조 장치 차고 ‘폴짝’   \n",
       "1791                     과일·채소 섭취, 어린이 ADHD 개선 효과   \n",
       "1792                           가족愛 돈독할수록 자녀 잘 자란다   \n",
       "1793        지역 대표할 일꾼 ‘직접’ 선출, 한 표도 허투루 써선 안 되겠죠?   \n",
       "\n",
       "                                                content  \\\n",
       "0     [바람과 물이 풍부하고, 화산 활동으로 돌이 다양한 제주. 특히 제주 선흘곶자왈은 ...   \n",
       "1     [최근 연예계는 사건·사고가 끊이지 않습니다. 지난달 23일 배우 이선균(48)이 ...   \n",
       "2     [감정적 섭식, 음식을 통해 기분 전환하려는 행동을 '감정적 섭식(Emotional...   \n",
       "3     [생크추어리: 해양 동물을 보호하는 바다 쉼터, \"시급히 자연으로 돌려보냅시다!\"지...   \n",
       "4     [은행에서 빌린 돈을 원래 약속한 기간보다 빨리 갚으려고 할 때 돈을 더 내야 할 ...   \n",
       "...                                                 ...   \n",
       "1789  ['건강(Health)'과 '즐겁다(Pleasure)'가 합쳐진 단어로, 건강을 즐...   \n",
       "1790  [\"폴짝폴짝, 이제 맘껏 뛰어놀래!\"선천적으로 무릎 관절에 장애를 갖고 태어나 제대...   \n",
       "1791  [과일과 채소를 많이 섭취하는 것이 어린이의 ADHD(주의력 결핍 과다 행동 장애)...   \n",
       "1792  [부모·자녀 간 돈독한 유대 관계가 아이의 인생을 좌우할 수 있다는 연구 결과가 나...   \n",
       "1793  [, 주민이 자기 지역의 대표를 ‘직접’ 선출하는 선거랍니다. 선출된 ‘일꾼’은 ‘...   \n",
       "\n",
       "                                                   link  \n",
       "0     https://kid.chosun.com/site/data/html_dir/2023...  \n",
       "1     https://kid.chosun.com/site/data/html_dir/2023...  \n",
       "2     https://kid.chosun.com/site/data/html_dir/2023...  \n",
       "3     https://kid.chosun.com/site/data/html_dir/2023...  \n",
       "4     https://kid.chosun.com/site/data/html_dir/2023...  \n",
       "...                                                 ...  \n",
       "1789  https://kid.chosun.com/site/data/html_dir/2022...  \n",
       "1790  https://kid.chosun.com/site/data/html_dir/2022...  \n",
       "1791  https://kid.chosun.com/site/data/html_dir/2022...  \n",
       "1792  https://kid.chosun.com/site/data/html_dir/2022...  \n",
       "1793  https://kid.chosun.com/site/data/html_dir/2022...  \n",
       "\n",
       "[1794 rows x 3 columns]"
      ]
     },
     "execution_count": 4,
     "metadata": {},
     "output_type": "execute_result"
    }
   ],
   "source": [
    "data"
   ]
  },
  {
   "cell_type": "code",
   "execution_count": 5,
   "metadata": {},
   "outputs": [],
   "source": [
    "data.to_csv(\"조선일보_시사.csv\",index=False)"
   ]
  },
  {
   "cell_type": "code",
   "execution_count": null,
   "metadata": {},
   "outputs": [],
   "source": []
  }
 ],
 "metadata": {
  "kernelspec": {
   "display_name": "dl_study",
   "language": "python",
   "name": "python3"
  },
  "language_info": {
   "codemirror_mode": {
    "name": "ipython",
    "version": 3
   },
   "file_extension": ".py",
   "mimetype": "text/x-python",
   "name": "python",
   "nbconvert_exporter": "python",
   "pygments_lexer": "ipython3",
   "version": "3.10.13"
  }
 },
 "nbformat": 4,
 "nbformat_minor": 2
}
