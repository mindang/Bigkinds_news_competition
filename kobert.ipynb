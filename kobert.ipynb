{
 "cells": [
  {
   "cell_type": "markdown",
   "metadata": {},
   "source": [
    "# SKT/KoBERT Git\n",
    "\n",
    "https://github.com/SKTBrain/KoBERT/tree/master/kobert_hf"
   ]
  },
  {
   "cell_type": "markdown",
   "metadata": {},
   "source": [
    "예상 되는 문제\n",
    "\n",
    "1. kobert와 KoBART의 토크나이저는 서로 다르다. => PPO학습 시 ids->token->ids과정을 거쳐야 함.\n",
    "\n",
    "2. dynamic padding 적용하고 싶다. => 속도 줄이기"
   ]
  },
  {
   "cell_type": "markdown",
   "metadata": {},
   "source": [
    "참고 블로그\n",
    "\n",
    "감성 분류 코드 - https://hoit1302.tistory.com/162#[2]kobert%EA%B8%B0%EB%B0%98%EC%8B%AC%EB%A6%AC%EC%BC%80%EC%96%B4%EC%B1%97%EB%B4%87\n",
    "\n",
    "카테고리 분류 코드 - https://beomcoder.tistory.com/1\n",
    "\n",
    "버트 코드 참고 - https://hyen4110.tistory.com/102"
   ]
  },
  {
   "attachments": {
    "image.png": {
     "image/png": "[encoded data removed]"
    }
   },
   "cell_type": "markdown",
   "metadata": {},
   "source": [
    "![image.png](attachment:image.png)"
   ]
  },
  {
   "cell_type": "code",
   "execution_count": 71,
   "metadata": {},
   "outputs": [
    {
     "name": "stderr",
     "output_type": "stream",
     "text": [
      "The tokenizer class you load from this checkpoint is not the same type as the class this function is called from. It may result in unexpected tokenization. \n",
      "The tokenizer class you load from this checkpoint is 'XLNetTokenizer'. \n",
      "The class this function is called from is 'KoBERTTokenizer'.\n"
     ]
    }
   ],
   "source": [
    "from kobert_tokenizer import KoBERTTokenizer\n",
    "tokenizer = KoBERTTokenizer.from_pretrained('skt/kobert-base-v1')"
   ]
  },
  {
   "cell_type": "markdown",
   "metadata": {},
   "source": [
    "# Tokenizer\n",
    "\n",
    "토크나이저를 사용하는 방법은 3가지가 있다.\n",
    "\n",
    "1. tokenizer를 call 하기 => model_input형태로 반환 - input_ids , token_type_ids , attention_mask\n",
    "    \n",
    "2. tokenizer.tokenize() 메소드 => subwords로 구분\n",
    "\n",
    "3. tokenizer.encode() 메소드 => ids만 반환 - decode()메소드로 토큰확인 가능"
   ]
  },
  {
   "cell_type": "code",
   "execution_count": 72,
   "metadata": {},
   "outputs": [
    {
     "data": {
      "text/plain": [
       "dict_keys(['input_ids', 'token_type_ids', 'attention_mask'])"
      ]
     },
     "execution_count": 72,
     "metadata": {},
     "output_type": "execute_result"
    }
   ],
   "source": [
    "tokenizer(\"해석할 수 있니?\",\"sep토큰 확인 문장\").keys()"
   ]
  },
  {
   "cell_type": "code",
   "execution_count": 73,
   "metadata": {},
   "outputs": [
    {
     "data": {
      "text/plain": [
       "['▁해석', '할', '▁수', '▁있', '니', '?']"
      ]
     },
     "execution_count": 73,
     "metadata": {},
     "output_type": "execute_result"
    }
   ],
   "source": [
    "tokenizer.tokenize(\"해석할 수 있니?\")"
   ]
  },
  {
   "cell_type": "code",
   "execution_count": 74,
   "metadata": {},
   "outputs": [
    {
     "name": "stdout",
     "output_type": "stream",
     "text": [
      "[2, 5008, 7836, 2872, 3854, 5770, 258, 3, 517, 440, 389, 432, 7628, 7567, 5130, 2120, 7178, 3]\n",
      "[CLS]해석할 수 있니?[SEP]sep토큰 확인 문장[SEP]\n"
     ]
    }
   ],
   "source": [
    "ids = tokenizer.encode(\"해석할 수 있니?\",\"sep토큰 확인 문장\")\n",
    "print(ids)\n",
    "print(tokenizer.decode(ids))"
   ]
  },
  {
   "cell_type": "code",
   "execution_count": 75,
   "metadata": {},
   "outputs": [
    {
     "name": "stdout",
     "output_type": "stream",
     "text": [
      "[2, 5008, 7836, 2872, 3854, 5770, 258, 3, 517, 440, 389, 432, 7628, 7567, 5130, 2120, 7178, 3]\n",
      "[CLS]해석할 수 있니?[SEP]sep토큰 확인 문장[SEP]\n"
     ]
    }
   ],
   "source": [
    "ids = tokenizer.encode(\"해석할 수 있니?\",\"sep토큰 확인 문장\")\n",
    "print(ids)\n",
    "print(tokenizer.decode(ids))"
   ]
  },
  {
   "cell_type": "code",
   "execution_count": 93,
   "metadata": {},
   "outputs": [
    {
     "name": "stdout",
     "output_type": "stream",
     "text": [
      "[UNK]\n",
      "[PAD]\n",
      "[CLS]\n",
      "[SEP]\n",
      "[MASK]\n",
      "!\n",
      "!'\n",
      "!”\n",
      "\"\n",
      "#\n"
     ]
    }
   ],
   "source": [
    "for i in range(10):\n",
    "    print(tokenizer.decode(i))"
   ]
  },
  {
   "cell_type": "markdown",
   "metadata": {},
   "source": [
    "# Dynamic Padding"
   ]
  },
  {
   "cell_type": "code",
   "execution_count": 103,
   "metadata": {},
   "outputs": [
    {
     "name": "stdout",
     "output_type": "stream",
     "text": [
      "dict_keys(['input_ids', 'token_type_ids', 'attention_mask'])\n",
      "[[0, 0, 0, 0, 0, 0, 0, 0, 0, 0, 0, 0, 0, 0, 0, 0, 0, 0, 0, 0, 0, 0, 0, 0, 0, 0, 0, 0, 0, 0, 0, 0, 0, 0, 0, 0, 0, 0, 0, 0, 0, 0, 0, 0, 0, 0, 0, 0, 0, 0, 0, 0, 0], [0, 0, 0, 0, 0, 0, 0, 0, 0]]\n",
      "53\n",
      "9\n"
     ]
    }
   ],
   "source": [
    "text = [\"기존 Tokenizer와 동일하게 사전 크기는 8,002개 입니다. 일반적인 토크나이저 사용시(예: inference) 아래와 같이 사용하면 됩니다.\" ,\n",
    "        \"감사합니다 ㅎㅎㅎㅎ\"]\n",
    "inputs = tokenizer.batch_encode_plus(text)\n",
    "print(inputs.keys())\n",
    "print(inputs.token_type_ids)\n",
    "for input in inputs.input_ids:\n",
    "    print(len(input))"
   ]
  },
  {
   "cell_type": "code",
   "execution_count": 121,
   "metadata": {},
   "outputs": [
    {
     "name": "stdout",
     "output_type": "stream",
     "text": [
      "dict_keys(['input_ids', 'token_type_ids', 'attention_mask'])\n",
      "[[2, 1300, 693, 427, 415, 392, 405, 459, 394, 6983, 1741, 7126, 7784, 2625, 4683, 5760, 624, 46, 79, 119, 5357, 517, 7139, 54, 3807, 7206, 517, 7630, 5655, 7096, 7199, 2613, 6705, 18, 6957, 249, 517, 409, 398, 394, 392, 382, 389, 40, 3108, 6983, 834, 2613, 7811, 517, 5906, 54, 3], [2, 793, 7843, 517, 493, 493, 493, 493, 3, 553, 6329, 2120, 7184, 3721, 2120, 7178, 4736, 3]]\n",
      "53\n",
      "18\n"
     ]
    }
   ],
   "source": [
    "text = [\"기존 Tokenizer와 동일하게 사전 크기는 8,002개 입니다. 일반적인 토크나이저 사용시(예: inference) 아래와 같이 사용하면 됩니다.\" ,\n",
    "        [\"감사합니다 ㅎㅎㅎㅎ\",\"2번째 문장에서 이어지는 문장 테스트\"]]\n",
    "inputs = tokenizer.batch_encode_plus(text)\n",
    "print(inputs.keys())\n",
    "print(inputs.input_ids)\n",
    "for input in inputs.input_ids:\n",
    "    print(len(input))"
   ]
  },
  {
   "cell_type": "code",
   "execution_count": 128,
   "metadata": {},
   "outputs": [
    {
     "ename": "ValueError",
     "evalue": "too many values to unpack (expected 2)",
     "output_type": "error",
     "traceback": [
      "\u001b[1;31m---------------------------------------------------------------------------\u001b[0m",
      "\u001b[1;31mValueError\u001b[0m                                Traceback (most recent call last)",
      "\u001b[1;32mc:\\Users\\Lenovo\\Desktop\\kobert_test\\test.ipynb 셀 15\u001b[0m line \u001b[0;36m3\n\u001b[0;32m      <a href='vscode-notebook-cell:/c%3A/Users/Lenovo/Desktop/kobert_test/test.ipynb#X42sZmlsZQ%3D%3D?line=0'>1</a>\u001b[0m text \u001b[39m=\u001b[39m [\u001b[39m\"\u001b[39m\u001b[39m기존 Tokenizer와 동일하게 사전 크기는 8,002개 입니다. 일반적인 토크나이저 사용시(예: inference) 아래와 같이 사용하면 됩니다.\u001b[39m\u001b[39m\"\u001b[39m ,\n\u001b[0;32m      <a href='vscode-notebook-cell:/c%3A/Users/Lenovo/Desktop/kobert_test/test.ipynb#X42sZmlsZQ%3D%3D?line=1'>2</a>\u001b[0m         [\u001b[39m\"\u001b[39m\u001b[39m감사합니다 ㅎㅎㅎㅎ\u001b[39m\u001b[39m\"\u001b[39m,\u001b[39m\"\u001b[39m\u001b[39m2번째 문장에서 이어지는 문장 테스트\u001b[39m\u001b[39m\"\u001b[39m,\u001b[39m\"\u001b[39m\u001b[39m3번째 문장 테스트으으으\u001b[39m\u001b[39m\"\u001b[39m]]\n\u001b[1;32m----> <a href='vscode-notebook-cell:/c%3A/Users/Lenovo/Desktop/kobert_test/test.ipynb#X42sZmlsZQ%3D%3D?line=2'>3</a>\u001b[0m inputs \u001b[39m=\u001b[39m tokenizer\u001b[39m.\u001b[39;49mbatch_encode_plus(text)\n\u001b[0;32m      <a href='vscode-notebook-cell:/c%3A/Users/Lenovo/Desktop/kobert_test/test.ipynb#X42sZmlsZQ%3D%3D?line=3'>4</a>\u001b[0m \u001b[39mprint\u001b[39m(inputs\u001b[39m.\u001b[39mkeys())\n\u001b[0;32m      <a href='vscode-notebook-cell:/c%3A/Users/Lenovo/Desktop/kobert_test/test.ipynb#X42sZmlsZQ%3D%3D?line=4'>5</a>\u001b[0m \u001b[39mprint\u001b[39m(inputs\u001b[39m.\u001b[39mtoken_type_ids)\n",
      "File \u001b[1;32mc:\\Users\\Lenovo\\miniconda3\\envs\\dl_study\\lib\\site-packages\\transformers\\tokenization_utils_base.py:3075\u001b[0m, in \u001b[0;36mPreTrainedTokenizerBase.batch_encode_plus\u001b[1;34m(self, batch_text_or_text_pairs, add_special_tokens, padding, truncation, max_length, stride, is_split_into_words, pad_to_multiple_of, return_tensors, return_token_type_ids, return_attention_mask, return_overflowing_tokens, return_special_tokens_mask, return_offsets_mapping, return_length, verbose, **kwargs)\u001b[0m\n\u001b[0;32m   3065\u001b[0m \u001b[39m# Backward compatibility for 'truncation_strategy', 'pad_to_max_length'\u001b[39;00m\n\u001b[0;32m   3066\u001b[0m padding_strategy, truncation_strategy, max_length, kwargs \u001b[39m=\u001b[39m \u001b[39mself\u001b[39m\u001b[39m.\u001b[39m_get_padding_truncation_strategies(\n\u001b[0;32m   3067\u001b[0m     padding\u001b[39m=\u001b[39mpadding,\n\u001b[0;32m   3068\u001b[0m     truncation\u001b[39m=\u001b[39mtruncation,\n\u001b[1;32m   (...)\u001b[0m\n\u001b[0;32m   3072\u001b[0m     \u001b[39m*\u001b[39m\u001b[39m*\u001b[39mkwargs,\n\u001b[0;32m   3073\u001b[0m )\n\u001b[1;32m-> 3075\u001b[0m \u001b[39mreturn\u001b[39;00m \u001b[39mself\u001b[39m\u001b[39m.\u001b[39m_batch_encode_plus(\n\u001b[0;32m   3076\u001b[0m     batch_text_or_text_pairs\u001b[39m=\u001b[39mbatch_text_or_text_pairs,\n\u001b[0;32m   3077\u001b[0m     add_special_tokens\u001b[39m=\u001b[39madd_special_tokens,\n\u001b[0;32m   3078\u001b[0m     padding_strategy\u001b[39m=\u001b[39mpadding_strategy,\n\u001b[0;32m   3079\u001b[0m     truncation_strategy\u001b[39m=\u001b[39mtruncation_strategy,\n\u001b[0;32m   3080\u001b[0m     max_length\u001b[39m=\u001b[39mmax_length,\n\u001b[0;32m   3081\u001b[0m     stride\u001b[39m=\u001b[39mstride,\n\u001b[0;32m   3082\u001b[0m     is_split_into_words\u001b[39m=\u001b[39mis_split_into_words,\n\u001b[0;32m   3083\u001b[0m     pad_to_multiple_of\u001b[39m=\u001b[39mpad_to_multiple_of,\n\u001b[0;32m   3084\u001b[0m     return_tensors\u001b[39m=\u001b[39mreturn_tensors,\n\u001b[0;32m   3085\u001b[0m     return_token_type_ids\u001b[39m=\u001b[39mreturn_token_type_ids,\n\u001b[0;32m   3086\u001b[0m     return_attention_mask\u001b[39m=\u001b[39mreturn_attention_mask,\n\u001b[0;32m   3087\u001b[0m     return_overflowing_tokens\u001b[39m=\u001b[39mreturn_overflowing_tokens,\n\u001b[0;32m   3088\u001b[0m     return_special_tokens_mask\u001b[39m=\u001b[39mreturn_special_tokens_mask,\n\u001b[0;32m   3089\u001b[0m     return_offsets_mapping\u001b[39m=\u001b[39mreturn_offsets_mapping,\n\u001b[0;32m   3090\u001b[0m     return_length\u001b[39m=\u001b[39mreturn_length,\n\u001b[0;32m   3091\u001b[0m     verbose\u001b[39m=\u001b[39mverbose,\n\u001b[0;32m   3092\u001b[0m     \u001b[39m*\u001b[39m\u001b[39m*\u001b[39mkwargs,\n\u001b[0;32m   3093\u001b[0m )\n",
      "File \u001b[1;32mc:\\Users\\Lenovo\\miniconda3\\envs\\dl_study\\lib\\site-packages\\transformers\\tokenization_utils.py:801\u001b[0m, in \u001b[0;36mPreTrainedTokenizer._batch_encode_plus\u001b[1;34m(self, batch_text_or_text_pairs, add_special_tokens, padding_strategy, truncation_strategy, max_length, stride, is_split_into_words, pad_to_multiple_of, return_tensors, return_token_type_ids, return_attention_mask, return_overflowing_tokens, return_special_tokens_mask, return_offsets_mapping, return_length, verbose, **kwargs)\u001b[0m\n\u001b[0;32m    799\u001b[0m     ids, pair_ids \u001b[39m=\u001b[39m ids_or_pair_ids, \u001b[39mNone\u001b[39;00m\n\u001b[0;32m    800\u001b[0m \u001b[39melse\u001b[39;00m:\n\u001b[1;32m--> 801\u001b[0m     ids, pair_ids \u001b[39m=\u001b[39m ids_or_pair_ids\n\u001b[0;32m    803\u001b[0m first_ids \u001b[39m=\u001b[39m get_input_ids(ids)\n\u001b[0;32m    804\u001b[0m second_ids \u001b[39m=\u001b[39m get_input_ids(pair_ids) \u001b[39mif\u001b[39;00m pair_ids \u001b[39mis\u001b[39;00m \u001b[39mnot\u001b[39;00m \u001b[39mNone\u001b[39;00m \u001b[39melse\u001b[39;00m \u001b[39mNone\u001b[39;00m\n",
      "\u001b[1;31mValueError\u001b[0m: too many values to unpack (expected 2)"
     ]
    }
   ],
   "source": [
    "text = [\"기존 Tokenizer와 동일하게 사전 크기는 8,002개 입니다. 일반적인 토크나이저 사용시(예: inference) 아래와 같이 사용하면 됩니다.\" ,\n",
    "        [\"감사합니다 ㅎㅎㅎㅎ\",\"2번째 문장에서 이어지는 문장 테스트\",\"3번째 문장 테스트으으으\"]]\n",
    "inputs = tokenizer.batch_encode_plus(text)\n",
    "print(inputs.keys())\n",
    "print(inputs.token_type_ids)\n",
    "for input in inputs.input_ids:\n",
    "    print(len(input))\n",
    "\n",
    "# BERT는 기본적으로 2개의 문장까지만 입력가능?"
   ]
  },
  {
   "cell_type": "code",
   "execution_count": 104,
   "metadata": {},
   "outputs": [],
   "source": [
    "from transformers import DataCollatorWithPadding\n",
    "data_collator = DataCollatorWithPadding(tokenizer=tokenizer)\n",
    "\n",
    "padded_inputs = data_collator(inputs)"
   ]
  },
  {
   "cell_type": "code",
   "execution_count": 105,
   "metadata": {},
   "outputs": [
    {
     "name": "stdout",
     "output_type": "stream",
     "text": [
      "tensor([[   2, 1300,  693,  427,  415,  392,  405,  459,  394, 6983, 1741, 7126,\n",
      "         7784, 2625, 4683, 5760,  624,   46,   79,  119, 5357,  517, 7139,   54,\n",
      "         3807, 7206,  517, 7630, 5655, 7096, 7199, 2613, 6705,   18, 6957,  249,\n",
      "          517,  409,  398,  394,  392,  382,  389,   40, 3108, 6983,  834, 2613,\n",
      "         7811,  517, 5906,   54,    3],\n",
      "        [   2,  793, 7843,  517,  493,  493,  493,  493,    3,    1,    1,    1,\n",
      "            1,    1,    1,    1,    1,    1,    1,    1,    1,    1,    1,    1,\n",
      "            1,    1,    1,    1,    1,    1,    1,    1,    1,    1,    1,    1,\n",
      "            1,    1,    1,    1,    1,    1,    1,    1,    1,    1,    1,    1,\n",
      "            1,    1,    1,    1,    1]])\n",
      "53\n",
      "53\n"
     ]
    }
   ],
   "source": [
    "print(padded_inputs.input_ids)\n",
    "for input in padded_inputs.input_ids:\n",
    "    print(len(input))"
   ]
  },
  {
   "cell_type": "markdown",
   "metadata": {},
   "source": [
    "# Model"
   ]
  },
  {
   "cell_type": "code",
   "execution_count": 101,
   "metadata": {},
   "outputs": [
    {
     "name": "stdout",
     "output_type": "stream",
     "text": [
      "odict_keys(['last_hidden_state', 'pooler_output'])\n",
      "torch.Size([1, 768]) torch.Size([1, 9, 768])\n"
     ]
    }
   ],
   "source": [
    "import torch\n",
    "from transformers import BertModel\n",
    "model = BertModel.from_pretrained('skt/kobert-base-v1')\n",
    "inputs = tokenizer.batch_encode_plus([\"감사합니다 ㅎㅎㅎㅎ\"])\n",
    "out = model(input_ids = torch.tensor(inputs['input_ids']),\n",
    "              attention_mask = torch.tensor(inputs['attention_mask']))\n",
    "\n",
    "print(out.keys())\n",
    "print(out.pooler_output.shape , out.last_hidden_state.shape)"
   ]
  },
  {
   "cell_type": "code",
   "execution_count": 107,
   "metadata": {},
   "outputs": [
    {
     "name": "stdout",
     "output_type": "stream",
     "text": [
      "odict_keys(['last_hidden_state', 'pooler_output'])\n",
      "torch.Size([3, 768]) torch.Size([3, 26, 768])\n"
     ]
    },
    {
     "name": "stderr",
     "output_type": "stream",
     "text": [
      "C:\\Users\\Lenovo\\AppData\\Local\\Temp\\ipykernel_66664\\3426822034.py:6: UserWarning: To copy construct from a tensor, it is recommended to use sourceTensor.clone().detach() or sourceTensor.clone().detach().requires_grad_(True), rather than torch.tensor(sourceTensor).\n",
      "  out = model(input_ids = torch.tensor(inputs['input_ids']),\n",
      "C:\\Users\\Lenovo\\AppData\\Local\\Temp\\ipykernel_66664\\3426822034.py:7: UserWarning: To copy construct from a tensor, it is recommended to use sourceTensor.clone().detach() or sourceTensor.clone().detach().requires_grad_(True), rather than torch.tensor(sourceTensor).\n",
      "  attention_mask = torch.tensor(inputs['attention_mask']))\n"
     ]
    }
   ],
   "source": [
    "text = [\"안녕하세요. 문장1\",\n",
    "        \"반갑습니다. 문장2\",\n",
    "        \"마지막 문장 엄청나게 긴 문장 테스트용 문장ㅎㅎㅎㅎㅎㅎㅎㅎㅎㅎ\"]\n",
    "\n",
    "inputs = data_collator(tokenizer.batch_encode_plus(text))\n",
    "out = model(input_ids = torch.tensor(inputs['input_ids']),\n",
    "              attention_mask = torch.tensor(inputs['attention_mask']))\n",
    "\n",
    "print(out.keys())\n",
    "print(out.pooler_output.shape , out.last_hidden_state.shape)"
   ]
  },
  {
   "cell_type": "markdown",
   "metadata": {},
   "source": [
    "# Custom Model"
   ]
  },
  {
   "cell_type": "code",
   "execution_count": 39,
   "metadata": {},
   "outputs": [
    {
     "ename": "NameError",
     "evalue": "name 'nn' is not defined",
     "output_type": "error",
     "traceback": [
      "\u001b[1;31m---------------------------------------------------------------------------\u001b[0m",
      "\u001b[1;31mNameError\u001b[0m                                 Traceback (most recent call last)",
      "\u001b[1;32mc:\\Users\\Lenovo\\Desktop\\kobert_test\\test.ipynb 셀 16\u001b[0m line \u001b[0;36m1\n\u001b[1;32m----> <a href='vscode-notebook-cell:/c%3A/Users/Lenovo/Desktop/kobert_test/test.ipynb#X13sZmlsZQ%3D%3D?line=0'>1</a>\u001b[0m \u001b[39mclass\u001b[39;00m \u001b[39mKoBERTforSequenceClassfication\u001b[39;00m(nn\u001b[39m.\u001b[39mModule):\n\u001b[0;32m      <a href='vscode-notebook-cell:/c%3A/Users/Lenovo/Desktop/kobert_test/test.ipynb#X13sZmlsZQ%3D%3D?line=1'>2</a>\u001b[0m     \u001b[39mdef\u001b[39;00m \u001b[39m__init__\u001b[39m(\u001b[39mself\u001b[39m,\n\u001b[0;32m      <a href='vscode-notebook-cell:/c%3A/Users/Lenovo/Desktop/kobert_test/test.ipynb#X13sZmlsZQ%3D%3D?line=2'>3</a>\u001b[0m                  num_labels\u001b[39m=\u001b[39m\u001b[39m1\u001b[39m,\n\u001b[0;32m      <a href='vscode-notebook-cell:/c%3A/Users/Lenovo/Desktop/kobert_test/test.ipynb#X13sZmlsZQ%3D%3D?line=3'>4</a>\u001b[0m                  hidden_size\u001b[39m=\u001b[39m\u001b[39m768\u001b[39m,\n\u001b[0;32m      <a href='vscode-notebook-cell:/c%3A/Users/Lenovo/Desktop/kobert_test/test.ipynb#X13sZmlsZQ%3D%3D?line=4'>5</a>\u001b[0m                  hidden_dropout_prob\u001b[39m=\u001b[39m\u001b[39m0.1\u001b[39m,\n\u001b[0;32m      <a href='vscode-notebook-cell:/c%3A/Users/Lenovo/Desktop/kobert_test/test.ipynb#X13sZmlsZQ%3D%3D?line=5'>6</a>\u001b[0m                  ):\n\u001b[0;32m      <a href='vscode-notebook-cell:/c%3A/Users/Lenovo/Desktop/kobert_test/test.ipynb#X13sZmlsZQ%3D%3D?line=6'>7</a>\u001b[0m         \u001b[39msuper\u001b[39m()\u001b[39m.\u001b[39m\u001b[39m__init__\u001b[39m()\n",
      "\u001b[1;31mNameError\u001b[0m: name 'nn' is not defined"
     ]
    }
   ],
   "source": [
    "class KoBERTforSequenceClassfication(nn.Module):\n",
    "    def __init__(self,\n",
    "                 num_labels=1,\n",
    "                 hidden_size=768,\n",
    "                 hidden_dropout_prob=0.1,\n",
    "                 ):\n",
    "        super().__init__()\n",
    "\n",
    "        self.num_labels = num_labels\n",
    "        self.kobert = BertModel.from_pretrained('skt/kobert-base-v1')\n",
    "        self.dropout = nn.Dropout(hidden_dropout_prob)\n",
    "        self.classifier = nn.Linear(hidden_size, num_labels)\n",
    "\n",
    "        self.init_weights()\n",
    "\n",
    "    def forward(\n",
    "            self,\n",
    "            input_ids=None,\n",
    "            attention_mask=None,\n",
    "            token_type_ids=None,\n",
    "            position_ids=None,\n",
    "            head_mask=None,\n",
    "            inputs_embeds=None,\n",
    "            labels=None,\n",
    "    ):\n",
    "        _ , pooled_output = self.kobert(\n",
    "            input_ids,\n",
    "            attention_mask=attention_mask,\n",
    "            token_type_ids=token_type_ids,\n",
    "            position_ids=position_ids,\n",
    "            head_mask=head_mask,\n",
    "            inputs_embeds=inputs_embeds,\n",
    "        )\n",
    "\n",
    "\n",
    "        pooled_output = self.dropout(pooled_output)\n",
    "        logits = self.classifier(pooled_output)\n",
    "\n",
    "        return logits\n",
    "\n",
    "        '''\n",
    "        if labels is not None:\n",
    "            if self.num_labels == 1:\n",
    "                #  We are doing regression\n",
    "                loss_fct = MSELoss()\n",
    "                loss = loss_fct(logits.view(-1), labels.view(-1))\n",
    "            else:\n",
    "                loss_fct = CrossEntropyLoss()\n",
    "                loss = loss_fct(logits.view(-1, self.num_labels), labels.view(-1))\n",
    "            outputs = (loss,) + outputs\n",
    "\n",
    "        return outputs  # (loss), logits, (hidden_states), (attentions)\n",
    "        '''"
   ]
  },
  {
   "cell_type": "markdown",
   "metadata": {},
   "source": [
    "# 문제\n",
    "\n",
    "1. 한개의 기사를 하나의 배치 샘플로?? -> 그럼 문장 사이에 SEP토큰을 넣으면 되나?\n",
    "\n",
    "2. 제목과 본문의 관계 -> 특수 토큰을 넣어서 [제목]제목[본문]본문"
   ]
  },
  {
   "cell_type": "markdown",
   "metadata": {},
   "source": []
  },
  {
   "cell_type": "code",
   "execution_count": null,
   "metadata": {},
   "outputs": [],
   "source": []
  },
  {
   "cell_type": "code",
   "execution_count": null,
   "metadata": {},
   "outputs": [],
   "source": []
  }
 ],
 "metadata": {
  "kernelspec": {
   "display_name": "dl_study",
   "language": "python",
   "name": "python3"
  },
  "language_info": {
   "codemirror_mode": {
    "name": "ipython",
    "version": 3
   },
   "file_extension": ".py",
   "mimetype": "text/x-python",
   "name": "python",
   "nbconvert_exporter": "python",
   "pygments_lexer": "ipython3",
   "version": "3.10.13"
  }
 },
 "nbformat": 4,
 "nbformat_minor": 2
}
