{
 "cells": [
  {
   "cell_type": "code",
   "execution_count": 51,
   "metadata": {},
   "outputs": [],
   "source": [
    "import pandas as pd\n",
    "import os\n",
    "from tqdm import tqdm\n",
    "from ast import literal_eval"
   ]
  },
  {
   "cell_type": "code",
   "execution_count": 52,
   "metadata": {},
   "outputs": [],
   "source": [
    "csv_dir = [ \"./어린이동아_사이언스.csv\",\n",
    "            \"./어린이동아_오늘의시사.csv\",\n",
    "            \"./조선일보_경제.csv\",\n",
    "            \"./조선일보_시사.csv\"]  "
   ]
  },
  {
   "cell_type": "code",
   "execution_count": 53,
   "metadata": {},
   "outputs": [],
   "source": [
    "merged_df = pd.read_csv(csv_dir[0])\n",
    "for csv_file in csv_dir[1:]:\n",
    "    df = pd.read_csv(csv_file)\n",
    "    merged_df = pd.concat([merged_df, df], ignore_index=True)"
   ]
  },
  {
   "cell_type": "code",
   "execution_count": 54,
   "metadata": {},
   "outputs": [],
   "source": [
    "data_folder = './어린이기사/'\n",
    "for index , row in merged_df.iterrows():\n",
    "    file_name = f'100{str(index+1).zfill(5)}.txt'\n",
    "    title = row['title'].strip()\n",
    "    content = \" \".join(x for x in literal_eval(row['content'])).strip()\n",
    "    with open(os.path.join(data_folder, file_name), 'w', encoding='utf-8') as file:\n",
    "        file.write(f'{title}\\n{content}')\n"
   ]
  }
 ],
 "metadata": {
  "kernelspec": {
   "display_name": "dl_study",
   "language": "python",
   "name": "python3"
  },
  "language_info": {
   "codemirror_mode": {
    "name": "ipython",
    "version": 3
   },
   "file_extension": ".py",
   "mimetype": "text/x-python",
   "name": "python",
   "nbconvert_exporter": "python",
   "pygments_lexer": "ipython3",
   "version": "3.10.13"
  }
 },
 "nbformat": 4,
 "nbformat_minor": 2
}
