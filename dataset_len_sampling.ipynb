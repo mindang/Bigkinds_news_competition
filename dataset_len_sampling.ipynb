{
 "cells": [
  {
   "cell_type": "markdown",
   "metadata": {},
   "source": [
    "# 일반 뉴스 기사 샘플링"
   ]
  },
  {
   "cell_type": "code",
   "execution_count": 1,
   "metadata": {},
   "outputs": [
    {
     "name": "stdout",
     "output_type": "stream",
     "text": [
      "using cached model. c:\\Users\\minki\\Desktop\\Bigkinds_news_competition\\.cache\\kobart_base_tokenizer_cased_cf74400bce.zip\n"
     ]
    },
    {
     "name": "stderr",
     "output_type": "stream",
     "text": [
      "100%|██████████| 22726/22726 [02:24<00:00, 157.00it/s]\n"
     ]
    }
   ],
   "source": [
    "import pandas\n",
    "import os\n",
    "from kobart import get_pytorch_kobart_model, get_kobart_tokenizer\n",
    "from tqdm import tqdm\n",
    "\n",
    "tokenizer = get_kobart_tokenizer()\n",
    "\n",
    "root_path = os.path.join('./Dataset/train',str(0))\n",
    "root_file_list = [f for f in os.listdir(root_path)]\n",
    "\n",
    "len_list = []\n",
    "save_filename_list = []\n",
    "\n",
    "for file_name in tqdm(root_file_list):\n",
    "    file_path = os.path.join(root_path,file_name)\n",
    "    with open(file_path, 'r') as file:\n",
    "        title = file.readline().rstrip('\\n')\n",
    "        content = file.readline()\n",
    "\n",
    "        tokens = (\n",
    "            [tokenizer.bos_token]\n",
    "            + tokenizer.tokenize(title)\n",
    "            + ['<unused0>'] # <unused0>\n",
    "            + tokenizer.tokenize(content)\n",
    "            + [tokenizer.eos_token]\n",
    "        )\n",
    "        tokens = tokenizer.convert_tokens_to_ids(tokens)\n",
    "\n",
    "        if len(tokens) <= 2000:\n",
    "            len_list.append(len(tokens))\n",
    "\n",
    "        if len(tokens) <= 1026:\n",
    "            save_filename_list.append(file_name) # 남기기\n",
    "    "
   ]
  },
  {
   "cell_type": "code",
   "execution_count": 2,
   "metadata": {},
   "outputs": [
    {
     "data": {
      "text/plain": [
       "(array([  1.,   0.,   4.,   9.,  20.,  22.,  38.,  65.,  81.,  80.,  59.,\n",
       "        109.,  88., 118., 111., 103., 101.,  82.,  85.,  96., 110., 113.,\n",
       "        135., 131., 101., 119., 118., 113., 114., 125., 142., 113., 141.,\n",
       "        137., 121., 112., 115., 106., 127., 125., 125., 133., 100., 127.,\n",
       "        123., 126., 120., 139., 139., 145., 157., 112., 115., 140., 125.,\n",
       "        158., 139., 131., 138., 151.,  96., 146., 139., 134., 149., 115.,\n",
       "        118.,  98., 114., 123.,  96., 130., 108., 112., 102., 131., 134.,\n",
       "        140.,  91., 117.,  99.,  99., 104., 109.,  78.,  94.,  91., 101.,\n",
       "        106.,  99.,  90.,  62.,  80.,  88., 100.,  79.,  93.,  92.,  86.,\n",
       "         74.,  99.,  87.,  79.,  70.,  94.,  82.,  56.,  78.,  71.,  83.,\n",
       "         83.,  61.,  67.,  51.,  68.,  66.,  65.,  64.,  54.,  55.,  54.,\n",
       "         64.,  58.,  49.,  42.,  73.,  64.,  59.,  66.,  79.,  44.,  64.,\n",
       "         45.,  35.,  59.,  49.,  45.,  42.,  46.,  43.,  50.,  49.,  51.,\n",
       "         64.,  39.,  50.,  43.,  33.,  42.,  40.,  44.,  42.,  38.,  48.,\n",
       "         39.,  42.,  35.,  43.,  24.,  55.,  32.,  44.,  43.,  42.,  42.,\n",
       "         46.,  47.,  36.,  24.,  35.,  28.,  30.,  45.,  35.,  46.,  26.,\n",
       "         32.,  38.,  34.,  32.,  32.,  36.,  28.,  35.,  30.,  38.,  24.,\n",
       "         24.,  31.,  39.,  38.,  23.,  35.,  26.,  40.,  49.,  23.,  24.,\n",
       "         36.,  39.,  42.,  29.,  36.,  26.,  35.,  28.,  31.,  28.,  29.,\n",
       "         33.,  43.,  23.,  36.,  24.,  34.,  22.,  34.,  47.,  27.,  33.,\n",
       "         24.,  32.,  34.,  29.,  35.,  35.,  32.,  32.,  39.,  40.,  49.,\n",
       "         24.,  33.,  46.,  44.,  30.,  30.,  34.,  31.,  20.,  32.,  34.,\n",
       "         41.,  32.,  37.,  41.,  38.,  31.,  49.,  31.,  30.,  20.,  32.,\n",
       "         23.,  29.,  27.,  27.,  35.,  37.,  36.,  31.,  43.,  48.,  37.,\n",
       "         40.,  40.,  36.,  33.,  40.,  30.,  46.,  25.,  46.,  30.,  37.,\n",
       "         14.,  31.,  38.,  40.,  37.,  28.,  50.,  36.,  45.,  37.,  36.,\n",
       "         21.,  44.,  25.,  36.,  31.,  48.,  26.,  30.,  30.,  36.,  31.,\n",
       "         27.,  33.,  23.,  43.,  30.,  29.,  38.,  20.,  39.,  29.,  19.,\n",
       "         36.,  29.,  26.,  19.,  26.,  34.,  23.,  30.,  40.,  31.,  33.,\n",
       "         34.,  31.,  31.,  28.,  31.,  34.,  34.,  27.,  30.,  12.,  20.,\n",
       "         35.,  45.,  32.,  25.,  22.,  32.,  38.,  12.,  24.,  37.,  28.,\n",
       "         34.,  31.,  28.,  31.,  28.,  20.,  31.,  31.,  24.,  24.,  23.,\n",
       "         20.,  25.,  30.,  23.,  27.,  15.,  42.,  25.,  25.,  13.,  20.,\n",
       "         28.,  28.,  12.,  18.,  12.,  14.,  21.,  17.,  13.,  22.,  15.,\n",
       "         31.,  26.,  24.,  19.,   9.,  15.,  25.,  15.,  21.,  21.,   8.,\n",
       "         18.,  22.,  23.,  22.,  18.,  22.,  12.,  11.,  11.,  13.,  16.,\n",
       "         12.,  26.,  13.,  15.,  22.,   9.,  18.,  11.,   7.,  21.,  22.,\n",
       "         21.,  16.,   9.,  11.,  13.,  14.,   9.,   6.,  10.,  19.,  13.,\n",
       "         14.,   7.,   8.,   3.,  13.,   8.,  15.,   9.,  11.,   6.,   9.,\n",
       "         10.,  10.,  11.,  18.,  11.,   8.,  12.,   6.,  14.,  11.,   4.,\n",
       "          8.,  10.,   7.,  15.,  20.,   9.,   7.,   7.,   3.,   7.,   6.,\n",
       "          6.,  11.,   6.,   6.,   4.,  14.,  11.,   4.,  10.,   6.,   4.,\n",
       "          3.,  11.,  11.,  13.,   4.,   6.,   9.,   2.,   4.,   6.,  12.,\n",
       "          5.,   4.,   4.,   6.,   5.,   3.,   5.,   5.,   4.,   1.,  20.,\n",
       "         10.,   4.,   6.,   2.,  11.,   5.,   4.,   4.,   5.,   5.,   6.,\n",
       "          7.,   5.,   6.,  12.,   4.,  11.,   6.,   5.,   4.,   2.,   3.,\n",
       "          2.,   8.,   7.,   4.,   5.,   7.,   5.,   8.,   4.,   4.,   7.,\n",
       "          2.,   5.,   6.,   5.,   4.,   9.,   5.,   3.,   3.,   3.,   2.,\n",
       "          2.,   4.,   7.,   8.,   2.,   8.,   4.,   2.,   2.,   7.,   2.,\n",
       "          5.,   3.,   6.,   2.,   1.,   3.,   5.,   7.,   4.,   8.,   3.,\n",
       "          8.,   2.,   2.,   1.,   2.,   1.,   3.,   5.,   8.,   6.,   9.,\n",
       "          3.,   5.,   4.,   8.,   3.,   3.,   1.,   1.,   5.,   1.,   4.,\n",
       "          4.,   0.,   2.,   5.,   1.,   5.,   5.,   3.,   2.,   0.,   0.,\n",
       "          3.,   3.,   6.,   1.,   1.,   7.,   5.,   2.,   2.,   3.,   4.,\n",
       "          7.,   1.,   0.,   2.,   1.,   4.,   2.,   7.,   1.,   0.,   0.,\n",
       "          2.,   6.,   0.,   3.,   2.,   0.,   2.,   1.,   1.,   0.,   2.,\n",
       "          5.,   2.,   4.,   1.,   3.,   1.,   4.,   2.,   2.,   0.,   4.,\n",
       "          3.,   0.,   0.,   1.,   2.,   7.,   4.,   3.,   5.,   4.,   4.,\n",
       "          1.,   3.,   2.,   0.,   1.,   2.,   3.,   2.,   4.,   0.,   2.,\n",
       "          1.,   1.,   4.,   3.,   4.,   2.,   0.,   2.,   1.,   0.,   3.,\n",
       "          2.,   2.,   3.,   1.,   1.,   4.,   0.,   0.,   0.,   3.,   5.,\n",
       "          0.,   3.,   0.,   2.,   1.,   0.,   0.,   2.,   2.,   4.,   3.,\n",
       "          1.,   3.,   3.,   2.,   4.,   1.,   1.,   0.,   1.,   3.,   0.,\n",
       "          2.,   2.,   0.,   1.,   0.,   3.,   1.,   0.,   1.,   0.,   0.,\n",
       "          0.,   1.,   2.,   3.,   2.,   1.,   1.,   1.,   2.,   3.,   0.,\n",
       "          0.,   1.,   3.,   1.,   1.,   1.,   5.,   4.,   0.,   1.,   2.,\n",
       "          0.,   1.,   0.,   0.,   2.,   2.,   1.,   0.,   1.,   2.,   1.,\n",
       "          2.,   1.,   0.,   0.,   0.,   0.,   5.,   2.,   0.,   0.,   3.,\n",
       "          1.,   1.,   0.,   0.,   0.,   0.,   1.,   2.,   0.,   0.,   0.,\n",
       "          2.,   2.,   0.,   0.,   3.,   2.,   4.,   0.,   1.,   1.,   0.,\n",
       "          0.,   0.,   1.,   0.,   1.,   0.,   0.,   0.,   1.,   0.,   0.,\n",
       "          0.,   0.,   1.,   0.,   0.,   1.,   2.,   0.,   0.,   2.,   0.,\n",
       "          0.,   0.,   0.,   0.,   1.,   1.,   0.,   0.,   0.,   0.,   0.,\n",
       "          0.,   0.,   0.,   0.,   0.,   0.,   0.,   0.,   1.,   1.,   0.,\n",
       "          0.,   1.,   0.,   0.,   0.,   0.,   0.,   0.,   0.,   1.,   0.,\n",
       "          0.,   0.,   0.,   1.,   0.,   0.,   0.,   1.,   0.,   0.,   1.]),\n",
       " array([112., 113., 114., 115., 116., 117., 118., 119., 120., 121., 122.,\n",
       "        123., 124., 125., 126., 127., 128., 129., 130., 131., 132., 133.,\n",
       "        134., 135., 136., 137., 138., 139., 140., 141., 142., 143., 144.,\n",
       "        145., 146., 147., 148., 149., 150., 151., 152., 153., 154., 155.,\n",
       "        156., 157., 158., 159., 160., 161., 162., 163., 164., 165., 166.,\n",
       "        167., 168., 169., 170., 171., 172., 173., 174., 175., 176., 177.,\n",
       "        178., 179., 180., 181., 182., 183., 184., 185., 186., 187., 188.,\n",
       "        189., 190., 191., 192., 193., 194., 195., 196., 197., 198., 199.,\n",
       "        200., 201., 202., 203., 204., 205., 206., 207., 208., 209., 210.,\n",
       "        211., 212., 213., 214., 215., 216., 217., 218., 219., 220., 221.,\n",
       "        222., 223., 224., 225., 226., 227., 228., 229., 230., 231., 232.,\n",
       "        233., 234., 235., 236., 237., 238., 239., 240., 241., 242., 243.,\n",
       "        244., 245., 246., 247., 248., 249., 250., 251., 252., 253., 254.,\n",
       "        255., 256., 257., 258., 259., 260., 261., 262., 263., 264., 265.,\n",
       "        266., 267., 268., 269., 270., 271., 272., 273., 274., 275., 276.,\n",
       "        277., 278., 279., 280., 281., 282., 283., 284., 285., 286., 287.,\n",
       "        288., 289., 290., 291., 292., 293., 294., 295., 296., 297., 298.,\n",
       "        299., 300., 301., 302., 303., 304., 305., 306., 307., 308., 309.,\n",
       "        310., 311., 312., 313., 314., 315., 316., 317., 318., 319., 320.,\n",
       "        321., 322., 323., 324., 325., 326., 327., 328., 329., 330., 331.,\n",
       "        332., 333., 334., 335., 336., 337., 338., 339., 340., 341., 342.,\n",
       "        343., 344., 345., 346., 347., 348., 349., 350., 351., 352., 353.,\n",
       "        354., 355., 356., 357., 358., 359., 360., 361., 362., 363., 364.,\n",
       "        365., 366., 367., 368., 369., 370., 371., 372., 373., 374., 375.,\n",
       "        376., 377., 378., 379., 380., 381., 382., 383., 384., 385., 386.,\n",
       "        387., 388., 389., 390., 391., 392., 393., 394., 395., 396., 397.,\n",
       "        398., 399., 400., 401., 402., 403., 404., 405., 406., 407., 408.,\n",
       "        409., 410., 411., 412., 413., 414., 415., 416., 417., 418., 419.,\n",
       "        420., 421., 422., 423., 424., 425., 426., 427., 428., 429., 430.,\n",
       "        431., 432., 433., 434., 435., 436., 437., 438., 439., 440., 441.,\n",
       "        442., 443., 444., 445., 446., 447., 448., 449., 450., 451., 452.,\n",
       "        453., 454., 455., 456., 457., 458., 459., 460., 461., 462., 463.,\n",
       "        464., 465., 466., 467., 468., 469., 470., 471., 472., 473., 474.,\n",
       "        475., 476., 477., 478., 479., 480., 481., 482., 483., 484., 485.,\n",
       "        486., 487., 488., 489., 490., 491., 492., 493., 494., 495., 496.,\n",
       "        497., 498., 499., 500., 501., 502., 503., 504., 505., 506., 507.,\n",
       "        508., 509., 510., 511., 512., 513., 514., 515., 516., 517., 518.,\n",
       "        519., 520., 521., 522., 523., 524., 525., 526., 527., 528., 529.,\n",
       "        530., 531., 532., 533., 534., 535., 536., 537., 538., 539., 540.,\n",
       "        541., 542., 543., 544., 545., 546., 547., 548., 549., 550., 551.,\n",
       "        552., 553., 554., 555., 556., 557., 558., 559., 560., 561., 562.,\n",
       "        563., 564., 565., 566., 567., 568., 569., 570., 571., 572., 573.,\n",
       "        574., 575., 576., 577., 578., 579., 580., 581., 582., 583., 584.,\n",
       "        585., 586., 587., 588., 589., 590., 591., 592., 593., 594., 595.,\n",
       "        596., 597., 598., 599., 600., 601., 602., 603., 604., 605., 606.,\n",
       "        607., 608., 609., 610., 611., 612., 613., 614., 615., 616., 617.,\n",
       "        618., 619., 620., 621., 622., 623., 624., 625., 626., 627., 628.,\n",
       "        629., 630., 631., 632., 633., 634., 635., 636., 637., 638., 639.,\n",
       "        640., 641., 642., 643., 644., 645., 646., 647., 648., 649., 650.,\n",
       "        651., 652., 653., 654., 655., 656., 657., 658., 659., 660., 661.,\n",
       "        662., 663., 664., 665., 666., 667., 668., 669., 670., 671., 672.,\n",
       "        673., 674., 675., 676., 677., 678., 679., 680., 681., 682., 683.,\n",
       "        684., 685., 686., 687., 688., 689., 690., 691., 692., 693., 694.,\n",
       "        695., 696., 697., 698., 699., 700., 701., 702., 703., 704., 705.,\n",
       "        706., 707., 708., 709., 710., 711., 712., 713., 714., 715., 716.,\n",
       "        717., 718., 719., 720., 721., 722., 723., 724., 725., 726., 727.,\n",
       "        728., 729., 730., 731., 732., 733., 734., 735., 736., 737., 738.,\n",
       "        739., 740., 741., 742., 743., 744., 745., 746., 747., 748., 749.,\n",
       "        750., 751., 752., 753., 754., 755., 756., 757., 758., 759., 760.,\n",
       "        761., 762., 763., 764., 765., 766., 767., 768., 769., 770., 771.,\n",
       "        772., 773., 774., 775., 776., 777., 778., 779., 780., 781., 782.,\n",
       "        783., 784., 785., 786., 787., 788., 789., 790., 791., 792., 793.,\n",
       "        794., 795., 796., 797., 798., 799., 800., 801., 802., 803., 804.,\n",
       "        805., 806., 807., 808., 809., 810., 811., 812., 813., 814., 815.,\n",
       "        816., 817., 818., 819., 820., 821., 822., 823., 824., 825., 826.,\n",
       "        827., 828., 829., 830., 831., 832., 833., 834., 835., 836., 837.,\n",
       "        838., 839., 840., 841., 842., 843., 844., 845., 846., 847., 848.,\n",
       "        849., 850., 851., 852., 853., 854., 855., 856., 857., 858., 859.,\n",
       "        860., 861., 862., 863., 864., 865., 866., 867., 868., 869., 870.,\n",
       "        871., 872., 873., 874., 875., 876., 877., 878., 879., 880., 881.,\n",
       "        882., 883., 884., 885., 886., 887., 888., 889., 890., 891., 892.,\n",
       "        893., 894., 895., 896., 897., 898., 899., 900., 901., 902., 903.,\n",
       "        904., 905., 906., 907., 908., 909., 910., 911., 912., 913., 914.,\n",
       "        915., 916., 917., 918., 919., 920., 921., 922., 923., 924., 925.,\n",
       "        926., 927., 928., 929., 930., 931., 932., 933., 934., 935., 936.,\n",
       "        937., 938., 939., 940., 941., 942., 943., 944., 945., 946., 947.,\n",
       "        948.]),\n",
       " <BarContainer object of 836 artists>)"
      ]
     },
     "execution_count": 2,
     "metadata": {},
     "output_type": "execute_result"
    },
    {
     "data": {
      "image/png": "[encoded data removed]",
      "text/plain": [
       "<Figure size 640x480 with 1 Axes>"
      ]
     },
     "metadata": {},
     "output_type": "display_data"
    }
   ],
   "source": [
    "import matplotlib.pyplot as plt\n",
    "\n",
    "plt.hist(len_list, bins=range(min(len_list), max(len_list) + 1), edgecolor='black')"
   ]
  },
  {
   "cell_type": "code",
   "execution_count": 4,
   "metadata": {},
   "outputs": [
    {
     "name": "stderr",
     "output_type": "stream",
     "text": [
      "100%|██████████| 35428/35428 [00:08<00:00, 3960.59it/s]\n"
     ]
    },
    {
     "data": {
      "text/plain": [
       "(35428, 33151)"
      ]
     },
     "execution_count": 4,
     "metadata": {},
     "output_type": "execute_result"
    }
   ],
   "source": [
    "for file_name in tqdm(root_file_list):\n",
    "    if file_name not in save_filename_list:\n",
    "        os.remove(os.path.join(root_path,file_name))\n",
    "\n",
    "len(save_filename_list) , len([f for f in os.listdir(root_path)])   # 실수 , 둘다 똑같음"
   ]
  },
  {
   "cell_type": "markdown",
   "metadata": {},
   "source": [
    "#  어린이 뉴스 기사 샘플링"
   ]
  },
  {
   "cell_type": "code",
   "execution_count": 6,
   "metadata": {},
   "outputs": [
    {
     "name": "stderr",
     "output_type": "stream",
     "text": [
      "100%|██████████| 3420/3420 [00:20<00:00, 164.17it/s]\n"
     ]
    }
   ],
   "source": [
    "root_path = os.path.join('./Dataset',str(1))\n",
    "root_file_list = [f for f in os.listdir(root_path)]\n",
    "\n",
    "len_list = []\n",
    "save_filename_list = []\n",
    "\n",
    "for file_name in tqdm(root_file_list):\n",
    "    file_path = os.path.join(root_path,file_name)\n",
    "    with open(file_path, 'r') as file:\n",
    "        title = file.readline().rstrip('\\n')\n",
    "        content = file.readline()\n",
    "\n",
    "        tokens = (\n",
    "            [tokenizer.bos_token]\n",
    "            + tokenizer.tokenize(title)\n",
    "            + ['<unused0>'] # <unused0>\n",
    "            + tokenizer.tokenize(content)\n",
    "            + [tokenizer.eos_token]\n",
    "        )\n",
    "        tokens = tokenizer.convert_tokens_to_ids(tokens)\n",
    "\n",
    "        if len(tokens) <= 2000:\n",
    "            len_list.append(len(tokens))\n",
    "\n",
    "        if len(tokens) <= 1026:\n",
    "            save_filename_list.append(file_name) # 남기기"
   ]
  },
  {
   "cell_type": "code",
   "execution_count": 7,
   "metadata": {},
   "outputs": [
    {
     "data": {
      "text/plain": [
       "(array([3., 5., 3., ..., 0., 0., 1.]),\n",
       " array([   5.,    6.,    7., ..., 1908., 1909., 1910.]),\n",
       " <BarContainer object of 1905 artists>)"
      ]
     },
     "execution_count": 7,
     "metadata": {},
     "output_type": "execute_result"
    },
    {
     "data": {
      "image/png": "[encoded data removed]",
      "text/plain": [
       "<Figure size 640x480 with 1 Axes>"
      ]
     },
     "metadata": {},
     "output_type": "display_data"
    }
   ],
   "source": [
    "plt.hist(len_list, bins=range(min(len_list), max(len_list) + 1), edgecolor='black')"
   ]
  },
  {
   "cell_type": "code",
   "execution_count": 11,
   "metadata": {},
   "outputs": [
    {
     "name": "stderr",
     "output_type": "stream",
     "text": [
      "100%|██████████| 3420/3420 [00:00<00:00, 35871.07it/s]\n"
     ]
    },
    {
     "data": {
      "text/plain": [
       "(3383, 3383)"
      ]
     },
     "execution_count": 11,
     "metadata": {},
     "output_type": "execute_result"
    }
   ],
   "source": [
    "for file_name in tqdm(root_file_list):\n",
    "    if file_name not in save_filename_list:\n",
    "        try:\n",
    "            os.remove(os.path.join(root_path,file_name))\n",
    "        except:\n",
    "            pass\n",
    "\n",
    "len(save_filename_list) , len([f for f in os.listdir(root_path)])"
   ]
  },
  {
   "cell_type": "markdown",
   "metadata": {},
   "source": [
    "# train / val / test 나누기\n",
    "\n",
    "어린이 3383개 , 일반 33151개\n",
    "\n",
    "train 2700+83 / 27000+151개\n",
    "\n",
    "val 300 / 3000개\n",
    "\n",
    "test 300 / 3000개"
   ]
  },
  {
   "cell_type": "code",
   "execution_count": 17,
   "metadata": {},
   "outputs": [],
   "source": [
    "import random\n",
    "import shutil"
   ]
  },
  {
   "cell_type": "code",
   "execution_count": 26,
   "metadata": {},
   "outputs": [
    {
     "name": "stderr",
     "output_type": "stream",
     "text": [
      "100%|██████████| 151/151 [00:00<00:00, 1698.02it/s]\n"
     ]
    }
   ],
   "source": [
    "label = 0\n",
    "mode = 'train'\n",
    "count = 2700\n",
    "from_path = os.path.join('./Dataset',str(label))\n",
    "to_path = os.path.join(f'./Dataset/{mode}',str(label))\n",
    "\n",
    "from_file = [f for f in os.listdir(from_path)]\n",
    "random.shuffle(from_file)\n",
    "\n",
    "for file_name in tqdm(from_file):\n",
    "    from_file_path = os.path.join(from_path,file_name)\n",
    "    to_file_path = os.path.join(to_path,file_name)\n",
    "    shutil.move(from_file_path, to_file_path)"
   ]
  },
  {
   "cell_type": "code",
   "execution_count": null,
   "metadata": {},
   "outputs": [],
   "source": []
  },
  {
   "cell_type": "markdown",
   "metadata": {},
   "source": [
    "# train / val / test 1:1로 나누기"
   ]
  },
  {
   "cell_type": "code",
   "execution_count": 3,
   "metadata": {},
   "outputs": [],
   "source": [
    "import random\n",
    "import shutil\n",
    "import os\n",
    "from tqdm import tqdm"
   ]
  },
  {
   "cell_type": "code",
   "execution_count": 7,
   "metadata": {},
   "outputs": [
    {
     "name": "stderr",
     "output_type": "stream",
     "text": [
      "100%|██████████| 2700/2700 [00:00<00:00, 5557.27it/s]\n"
     ]
    },
    {
     "data": {
      "text/plain": [
       "300"
      ]
     },
     "execution_count": 7,
     "metadata": {},
     "output_type": "execute_result"
    }
   ],
   "source": [
    "label = 0\n",
    "mode = 'test'\n",
    "count = 300\n",
    "root_path = os.path.join(f'./Dataset/{mode}',str(label))\n",
    "\n",
    "from_file = [f for f in os.listdir(root_path)]\n",
    "random.shuffle(from_file)\n",
    "\n",
    "for file_name in tqdm(from_file[:-count]):\n",
    "    file_path = os.path.join(root_path,file_name)\n",
    "    os.remove(file_path)\n",
    "\n",
    "len([f for f in os.listdir(root_path)])"
   ]
  },
  {
   "cell_type": "code",
   "execution_count": null,
   "metadata": {},
   "outputs": [],
   "source": []
  },
  {
   "cell_type": "markdown",
   "metadata": {},
   "source": [
    "# 기사 본문 기자이름 제거"
   ]
  },
  {
   "cell_type": "code",
   "execution_count": 20,
   "metadata": {},
   "outputs": [],
   "source": [
    "import random\n",
    "import shutil\n",
    "import os\n",
    "from tqdm import tqdm\n",
    "import re\n",
    "from kobart import get_pytorch_kobart_model, get_kobart_tokenizer"
   ]
  },
  {
   "cell_type": "code",
   "execution_count": 23,
   "metadata": {},
   "outputs": [
    {
     "name": "stdout",
     "output_type": "stream",
     "text": [
      "using cached model. c:\\Users\\minki\\Desktop\\Bigkinds_news_competition\\.cache\\kobart_base_tokenizer_cased_cf74400bce.zip\n"
     ]
    },
    {
     "name": "stderr",
     "output_type": "stream",
     "text": [
      "  0%|          | 0/3000 [00:00<?, ?it/s]"
     ]
    },
    {
     "name": "stderr",
     "output_type": "stream",
     "text": [
      "100%|██████████| 3000/3000 [00:16<00:00, 177.47it/s]"
     ]
    },
    {
     "name": "stdout",
     "output_type": "stream",
     "text": [
      "cnt1:482 cnt2:2518\n",
      "2518\n"
     ]
    },
    {
     "name": "stderr",
     "output_type": "stream",
     "text": [
      "\n"
     ]
    }
   ],
   "source": [
    "label = 0\n",
    "mode = 'test'\n",
    "root_path = os.path.join(f'./Dataset/{mode}',str(label))\n",
    "from_file = [f for f in os.listdir(root_path)]\n",
    "\n",
    "tokenizer = get_kobart_tokenizer()\n",
    "cnt1 , cnt2 = 0 , 0\n",
    "\n",
    "def remove_text_after_word(text, word='YTN'):\n",
    "    pattern = re.compile(rf'{re.escape(word)}.*')\n",
    "    result = re.sub(pattern, '', text)\n",
    "    return result\n",
    "\n",
    "\n",
    "for file_name in tqdm(from_file):\n",
    "    file_path = os.path.join(root_path,file_name)\n",
    "\n",
    "    with open(file_path, 'r') as file:\n",
    "        title = file.readline().rstrip('\\n')\n",
    "        content = file.readline()\n",
    "\n",
    "        title = re.sub(r'\\[.*?\\]','',title)\n",
    "        content = remove_text_after_word(content)\n",
    "\n",
    "    title_len = len(tokenizer(title).input_ids)\n",
    "    content_len = len(tokenizer(content).input_ids)\n",
    "\n",
    "    if title_len == 0 or content_len <= 100:\n",
    "        os.remove(file_path)\n",
    "        cnt1 += 1\n",
    "    else:\n",
    "        with open(file_path, 'w') as file:\n",
    "            file.write(title+'\\n'+content)\n",
    "        cnt2 += 1\n",
    "\n",
    "\n",
    "print(f'cnt1:{cnt1} cnt2:{cnt2}')\n",
    "print(len([f for f in os.listdir(root_path)]))\n",
    "\n",
    "\n",
    "    "
   ]
  },
  {
   "cell_type": "code",
   "execution_count": null,
   "metadata": {},
   "outputs": [],
   "source": []
  },
  {
   "cell_type": "code",
   "execution_count": null,
   "metadata": {},
   "outputs": [],
   "source": []
  },
  {
   "cell_type": "code",
   "execution_count": null,
   "metadata": {},
   "outputs": [],
   "source": []
  }
 ],
 "metadata": {
  "kernelspec": {
   "display_name": "dl_venv",
   "language": "python",
   "name": "python3"
  },
  "language_info": {
   "codemirror_mode": {
    "name": "ipython",
    "version": 3
   },
   "file_extension": ".py",
   "mimetype": "text/x-python",
   "name": "python",
   "nbconvert_exporter": "python",
   "pygments_lexer": "ipython3",
   "version": "3.10.9"
  }
 },
 "nbformat": 4,
 "nbformat_minor": 2
}
