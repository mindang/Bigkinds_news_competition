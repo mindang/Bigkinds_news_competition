{
 "cells": [
  {
   "cell_type": "code",
   "execution_count": 28,
   "metadata": {},
   "outputs": [],
   "source": [
    "import requests\n",
    "from bs4 import BeautifulSoup\n",
    "from collections import Counter\n",
    "import pandas as pd\n",
    "import re\n",
    "import time\n",
    "from tqdm import tqdm"
   ]
  },
  {
   "cell_type": "code",
   "execution_count": 29,
   "metadata": {},
   "outputs": [
    {
     "data": {
      "text/html": [
       "<div>\n",
       "<style scoped>\n",
       "    .dataframe tbody tr th:only-of-type {\n",
       "        vertical-align: middle;\n",
       "    }\n",
       "\n",
       "    .dataframe tbody tr th {\n",
       "        vertical-align: top;\n",
       "    }\n",
       "\n",
       "    .dataframe thead th {\n",
       "        text-align: right;\n",
       "    }\n",
       "</style>\n",
       "<table border=\"1\" class=\"dataframe\">\n",
       "  <thead>\n",
       "    <tr style=\"text-align: right;\">\n",
       "      <th></th>\n",
       "      <th>title</th>\n",
       "      <th>content</th>\n",
       "      <th>link</th>\n",
       "    </tr>\n",
       "  </thead>\n",
       "  <tbody>\n",
       "  </tbody>\n",
       "</table>\n",
       "</div>"
      ],
      "text/plain": [
       "Empty DataFrame\n",
       "Columns: [title, content, link]\n",
       "Index: []"
      ]
     },
     "execution_count": 29,
     "metadata": {},
     "output_type": "execute_result"
    }
   ],
   "source": [
    "data = pd.DataFrame(columns=['title','content','link'])\n",
    "data"
   ]
  },
  {
   "cell_type": "code",
   "execution_count": null,
   "metadata": {},
   "outputs": [],
   "source": [
    "for page_num in tqdm(range(1,118)):   # 오늘의 시사 : 1 ~ 117 page / 사이언스 : 1 ~ 8 page\n",
    "    time.sleep(1)\n",
    "    \n",
    "    # 페이지 탐색\n",
    "    page_url = f\"https://kids.donga.com/?page_no={page_num}&ptype=article&psub=news&gbn=01\"\n",
    "    page_response = requests.get(page_url)\n",
    "    page_html = page_response.content\n",
    "\n",
    "    # BeautifulSoup을 사용하여 HTML 파싱\n",
    "    page_soup = BeautifulSoup(page_html, 'html.parser')\n",
    "    links = [link['href'] for link in page_soup.find_all('a')]\n",
    "    links = Counter(links)\n",
    "    links = [link for link in links if 'https://kids.donga.com?ptype=article&no' in link]\n",
    "    \n",
    "    for news_link in links:\n",
    "        time.sleep(0.1)\n",
    "        # 웹 페이지의 HTML을 가져오기\n",
    "        news_response = requests.get(news_link)\n",
    "        news_content = news_response.content\n",
    "        news_soup = BeautifulSoup(news_content, 'html.parser')\n",
    "\n",
    "        # 기사 제목 추출\n",
    "        title = news_soup.find('title').text.strip()\n",
    "        title = re.sub(r'\\[.*?\\]','',title)\n",
    "\n",
    "        # 기사 본문 추출\n",
    "        news_content = []\n",
    "        content = news_soup.find_all('p')\n",
    "        for cont in content:\n",
    "            c = cont.find_all('span', style='font-family: 돋움, dotum;')\n",
    "            for cc in c:\n",
    "                news_text = cc.text\n",
    "                if len(news_text) < 33:\n",
    "                    continue\n",
    "                if not re.compile('[ㄱ-ㅎ가-힣]+').search(news_text[:10]) or not re.compile('[ㄱ-ㅎ가-힣]+').search(news_text[-10:]):\n",
    "                    continue\n",
    "                #if \"애니멀 사이언스 코너에서는\" in news_text: continue\n",
    "                news_content.append(news_text)\n",
    "\n",
    "        if not news_content:\n",
    "            content = news_soup.find_all('div','at_content')\n",
    "            for cont in content:\n",
    "                c = cont.find_all('p')\n",
    "                for cc in c:\n",
    "                    news_text = cc.text\n",
    "                    if len(news_text) < 33:\n",
    "                        continue\n",
    "                    if not re.compile('[ㄱ-ㅎ가-힣]+').search(news_text[:10]) or not re.compile('[ㄱ-ㅎ가-힣]+').search(news_text[-10:]):\n",
    "                        continue\n",
    "                    #if \"애니멀 사이언스 코너에서는\" in news_text: continue\n",
    "                    news_content.append(news_text)\n",
    "        #news_content = \" \".join(news_content)\n",
    "        if title and news_content:\n",
    "            data = pd.concat([data,pd.DataFrame({'title': [title] , 'content' : [news_content] , 'link' : [news_link]})],ignore_index=True)\n",
    "        \n"
   ]
  },
  {
   "cell_type": "code",
   "execution_count": 31,
   "metadata": {},
   "outputs": [
    {
     "data": {
      "text/html": [
       "<div>\n",
       "<style scoped>\n",
       "    .dataframe tbody tr th:only-of-type {\n",
       "        vertical-align: middle;\n",
       "    }\n",
       "\n",
       "    .dataframe tbody tr th {\n",
       "        vertical-align: top;\n",
       "    }\n",
       "\n",
       "    .dataframe thead th {\n",
       "        text-align: right;\n",
       "    }\n",
       "</style>\n",
       "<table border=\"1\" class=\"dataframe\">\n",
       "  <thead>\n",
       "    <tr style=\"text-align: right;\">\n",
       "      <th></th>\n",
       "      <th>title</th>\n",
       "      <th>content</th>\n",
       "      <th>link</th>\n",
       "    </tr>\n",
       "  </thead>\n",
       "  <tbody>\n",
       "    <tr>\n",
       "      <th>0</th>\n",
       "      <td>쌍둥이 판다, 엄마 품에서 완전 자연 포육 시작</td>\n",
       "      <td>[국내에서 최초로 태어난 쌍둥이 판다 자매가 최근 엄마 품으로 완전히 돌아갔어요. ...</td>\n",
       "      <td>https://kids.donga.com?ptype=article&amp;no=202311...</td>\n",
       "    </tr>\n",
       "    <tr>\n",
       "      <th>1</th>\n",
       "      <td>132억 년 된 최고령 블랙홀 발견</td>\n",
       "      <td>[우주 관측을 시작한 이래(일정한 때로부터 지금까지)로, 가장 나이가 많은 블랙홀이...</td>\n",
       "      <td>https://kids.donga.com?ptype=article&amp;no=202311...</td>\n",
       "    </tr>\n",
       "    <tr>\n",
       "      <th>2</th>\n",
       "      <td>880억 원 가치의 모네 그림, 경매에 나온다… 생애 마지막까지 ‘빛’을 그려낸 화가</td>\n",
       "      <td>[약 880억 원. 프랑스 출신의 세계적인 화가 클로드 모네(1840∼1926)의 ...</td>\n",
       "      <td>https://kids.donga.com?ptype=article&amp;no=202311...</td>\n",
       "    </tr>\n",
       "    <tr>\n",
       "      <th>3</th>\n",
       "      <td>영국 찰스 3세의 첫 ‘킹스 스피치’</td>\n",
       "      <td>[&gt;&gt; 7일 (영국) 런던의 웨스트민스터 궁의 국회의사당. 찰스 3세 영국 국왕이 ...</td>\n",
       "      <td>https://kids.donga.com?ptype=article&amp;no=202311...</td>\n",
       "    </tr>\n",
       "    <tr>\n",
       "      <th>4</th>\n",
       "      <td>일회용 종이컵·빨대·비닐봉투 계속 쓴다… 정부, 일회용품 규제 없던 일로</td>\n",
       "      <td>[정부가 식당과 카페에서 일회용 종이컵, 플라스틱 빨대, 비닐봉투를 사용하는 것을 ...</td>\n",
       "      <td>https://kids.donga.com?ptype=article&amp;no=202311...</td>\n",
       "    </tr>\n",
       "    <tr>\n",
       "      <th>...</th>\n",
       "      <td>...</td>\n",
       "      <td>...</td>\n",
       "      <td>...</td>\n",
       "    </tr>\n",
       "    <tr>\n",
       "      <th>356</th>\n",
       "      <td>죽음의 더위에 '폭염 인증샷'?… 더위가 사람 잡는 와중에도 아랑곳 않는 관광행렬</td>\n",
       "      <td>[한 여성이 데스밸리 국립공원 온도계 옆에서 인증 사진을 남기고 있다. 캘리포니아=...</td>\n",
       "      <td>https://kids.donga.com?ptype=article&amp;no=202307...</td>\n",
       "    </tr>\n",
       "    <tr>\n",
       "      <th>357</th>\n",
       "      <td>여자 축구 월드컵 16강 갈 수 있을까?</td>\n",
       "      <td>[&gt;&gt; 7월 30일 호주 애들레이드. *여자 월드컵 H조의 대한민국과 모로코의 경기...</td>\n",
       "      <td>https://kids.donga.com?ptype=article&amp;no=202307...</td>\n",
       "    </tr>\n",
       "    <tr>\n",
       "      <th>358</th>\n",
       "      <td>분리수거하고 빨래 개는 AI 로봇 공개… 프로그래밍 없이 스스로 학습</td>\n",
       "      <td>[“멸종된 동물을 고르세요”라는 주문에 여러 물건 가운데 공룡 모양의 장난감을 집어...</td>\n",
       "      <td>https://kids.donga.com?ptype=article&amp;no=202307...</td>\n",
       "    </tr>\n",
       "    <tr>\n",
       "      <th>359</th>\n",
       "      <td>영국, 횡단보도 보행 신호등 켜지는 시간 늘린다</td>\n",
       "      <td>[영국 정부가 횡단보도를 건너는 보행자들에게 더 많은 시간을 주기 위해 보행 신호등...</td>\n",
       "      <td>https://kids.donga.com?ptype=article&amp;no=202307...</td>\n",
       "    </tr>\n",
       "    <tr>\n",
       "      <th>360</th>\n",
       "      <td>돈독한 유대관계 자랑하는 동물들… 함께하니 생존에 더 유리하군!</td>\n",
       "      <td>[수십 마리의 둥근머리돌고래들이 최근 스코틀랜드 해안에서 목숨을 잃는 일이 발생했어...</td>\n",
       "      <td>https://kids.donga.com?ptype=article&amp;no=202307...</td>\n",
       "    </tr>\n",
       "  </tbody>\n",
       "</table>\n",
       "<p>361 rows × 3 columns</p>\n",
       "</div>"
      ],
      "text/plain": [
       "                                               title  \\\n",
       "0                         쌍둥이 판다, 엄마 품에서 완전 자연 포육 시작   \n",
       "1                                132억 년 된 최고령 블랙홀 발견   \n",
       "2    880억 원 가치의 모네 그림, 경매에 나온다… 생애 마지막까지 ‘빛’을 그려낸 화가   \n",
       "3                               영국 찰스 3세의 첫 ‘킹스 스피치’   \n",
       "4           일회용 종이컵·빨대·비닐봉투 계속 쓴다… 정부, 일회용품 규제 없던 일로   \n",
       "..                                               ...   \n",
       "356    죽음의 더위에 '폭염 인증샷'?… 더위가 사람 잡는 와중에도 아랑곳 않는 관광행렬   \n",
       "357                           여자 축구 월드컵 16강 갈 수 있을까?   \n",
       "358           분리수거하고 빨래 개는 AI 로봇 공개… 프로그래밍 없이 스스로 학습   \n",
       "359                       영국, 횡단보도 보행 신호등 켜지는 시간 늘린다   \n",
       "360              돈독한 유대관계 자랑하는 동물들… 함께하니 생존에 더 유리하군!   \n",
       "\n",
       "                                               content  \\\n",
       "0    [국내에서 최초로 태어난 쌍둥이 판다 자매가 최근 엄마 품으로 완전히 돌아갔어요. ...   \n",
       "1    [우주 관측을 시작한 이래(일정한 때로부터 지금까지)로, 가장 나이가 많은 블랙홀이...   \n",
       "2    [약 880억 원. 프랑스 출신의 세계적인 화가 클로드 모네(1840∼1926)의 ...   \n",
       "3    [>> 7일 (영국) 런던의 웨스트민스터 궁의 국회의사당. 찰스 3세 영국 국왕이 ...   \n",
       "4    [정부가 식당과 카페에서 일회용 종이컵, 플라스틱 빨대, 비닐봉투를 사용하는 것을 ...   \n",
       "..                                                 ...   \n",
       "356  [한 여성이 데스밸리 국립공원 온도계 옆에서 인증 사진을 남기고 있다. 캘리포니아=...   \n",
       "357  [>> 7월 30일 호주 애들레이드. *여자 월드컵 H조의 대한민국과 모로코의 경기...   \n",
       "358  [“멸종된 동물을 고르세요”라는 주문에 여러 물건 가운데 공룡 모양의 장난감을 집어...   \n",
       "359  [영국 정부가 횡단보도를 건너는 보행자들에게 더 많은 시간을 주기 위해 보행 신호등...   \n",
       "360  [수십 마리의 둥근머리돌고래들이 최근 스코틀랜드 해안에서 목숨을 잃는 일이 발생했어...   \n",
       "\n",
       "                                                  link  \n",
       "0    https://kids.donga.com?ptype=article&no=202311...  \n",
       "1    https://kids.donga.com?ptype=article&no=202311...  \n",
       "2    https://kids.donga.com?ptype=article&no=202311...  \n",
       "3    https://kids.donga.com?ptype=article&no=202311...  \n",
       "4    https://kids.donga.com?ptype=article&no=202311...  \n",
       "..                                                 ...  \n",
       "356  https://kids.donga.com?ptype=article&no=202307...  \n",
       "357  https://kids.donga.com?ptype=article&no=202307...  \n",
       "358  https://kids.donga.com?ptype=article&no=202307...  \n",
       "359  https://kids.donga.com?ptype=article&no=202307...  \n",
       "360  https://kids.donga.com?ptype=article&no=202307...  \n",
       "\n",
       "[361 rows x 3 columns]"
      ]
     },
     "execution_count": 31,
     "metadata": {},
     "output_type": "execute_result"
    }
   ],
   "source": [
    "data"
   ]
  },
  {
   "cell_type": "code",
   "execution_count": 32,
   "metadata": {},
   "outputs": [],
   "source": [
    "data.to_csv(\"어린이동아_오늘의시사2.csv\",index=False)"
   ]
  },
  {
   "cell_type": "code",
   "execution_count": 33,
   "metadata": {},
   "outputs": [],
   "source": [
    "news_response = requests.get(\"https://kids.donga.com/?ptype=article&no=20230404124053734579&psub=news&gbn=01\")\n",
    "news_content = news_response.content\n",
    "news_soup = BeautifulSoup(news_content, 'html.parser')\n",
    "\n",
    "# 기사 제목 추출\n",
    "title = news_soup.find('title').text.strip()\n",
    "title = re.sub(r'\\[.*?\\]','',title)\n",
    "\n",
    "# 기사 본문 추출\n",
    "news_content = []\n",
    "content = news_soup.find_all('p')\n",
    "for cont in content:\n",
    "    c = cont.find_all('span', style='font-family: 돋움, dotum;')\n",
    "    for cc in c:\n",
    "        news_text = cc.text\n",
    "        if len(news_text) < 33:\n",
    "            continue\n",
    "        if not re.compile('[ㄱ-ㅎ가-힣]+').search(news_text[:10]) or not re.compile('[ㄱ-ㅎ가-힣]+').search(news_text[-10:]):\n",
    "            continue\n",
    "        #if \"애니멀 사이언스 코너에서는\" in news_text: continue\n",
    "        news_content.append(news_text)\n",
    "\n",
    "if not news_content:\n",
    "    content = news_soup.find_all('div','at_content')\n",
    "    for cont in content:\n",
    "        c = cont.find_all('p')\n",
    "        for cc in c:\n",
    "            news_text = cc.text\n",
    "            if len(news_text) < 33:\n",
    "                continue\n",
    "            if not re.compile('[ㄱ-ㅎ가-힣]+').search(news_text[:10]) or not re.compile('[ㄱ-ㅎ가-힣]+').search(news_text[-10:]):\n",
    "                continue\n",
    "            #if \"애니멀 사이언스 코너에서는\" in news_text: continue\n",
    "            news_content.append(news_text)"
   ]
  },
  {
   "cell_type": "code",
   "execution_count": 34,
   "metadata": {},
   "outputs": [
    {
     "data": {
      "text/plain": [
       "'일본 해저 8336m에서 심해어 발견'"
      ]
     },
     "execution_count": 34,
     "metadata": {},
     "output_type": "execute_result"
    }
   ],
   "source": [
    "title"
   ]
  },
  {
   "cell_type": "code",
   "execution_count": 35,
   "metadata": {},
   "outputs": [
    {
     "data": {
      "text/plain": [
       "['등 외신은 호주 웨스턴오스트레일리아대 연구진이 일본 남부\\r\\n이즈',\n",
       " '이 심해어는 현재까지 발견된 물고기 가운데 가장 깊은 바다에서 발견된 것으로 기록됐어요',\n",
       " '이런 환경에서도 살아남을 수 있는 건 젤리처럼 말랑말랑한 이\\r\\n물고기의 몸이 압력을 견딜 수 있게 하기 때문']"
      ]
     },
     "execution_count": 35,
     "metadata": {},
     "output_type": "execute_result"
    }
   ],
   "source": [
    "news_content"
   ]
  },
  {
   "cell_type": "code",
   "execution_count": null,
   "metadata": {},
   "outputs": [],
   "source": []
  }
 ],
 "metadata": {
  "kernelspec": {
   "display_name": "dl_study",
   "language": "python",
   "name": "python3"
  },
  "language_info": {
   "codemirror_mode": {
    "name": "ipython",
    "version": 3
   },
   "file_extension": ".py",
   "mimetype": "text/x-python",
   "name": "python",
   "nbconvert_exporter": "python",
   "pygments_lexer": "ipython3",
   "version": "3.10.13"
  }
 },
 "nbformat": 4,
 "nbformat_minor": 2
}
